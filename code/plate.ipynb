{
 "cells": [
  {
   "cell_type": "markdown",
   "metadata": {},
   "source": [
    "# Plate"
   ]
  },
  {
   "cell_type": "code",
   "execution_count": 1,
   "metadata": {},
   "outputs": [],
   "source": [
    "import numpy as np\n",
    "from hedgehog.plate import *\n",
    "\n",
    "import matplotlib.pyplot as plt\n",
    "\n",
    "%matplotlib inline\n",
    "%load_ext autoreload\n",
    "%aimport hedgehog.plate\n",
    "%autoreload 1"
   ]
  },
  {
   "cell_type": "markdown",
   "metadata": {},
   "source": [
    "### The System"
   ]
  },
  {
   "cell_type": "code",
   "execution_count": 2,
   "metadata": {
    "collapsed": true
   },
   "outputs": [],
   "source": [
    "'''\n",
    "w = [[w1], [w2], [w3], [w4], [w5]]\n",
    "'''\n",
    "\n",
    "def w_1_prime(eta, w):\n",
    "    w2 = w[1][0]\n",
    "    return w2\n",
    "\n",
    "def w_2_prime(eta, w):\n",
    "    w3 = w[2][0]\n",
    "    return w3\n",
    "\n",
    "def w_3_prime(eta, w):\n",
    "    w1 = w[0][0]\n",
    "    w3 = w[2][0]\n",
    "    ans = -0.5 * w1 * w3\n",
    "    return ans\n",
    "\n",
    "def w_4_prime(eta, w):\n",
    "    w5 = w[4][0]\n",
    "    return w5\n",
    "\n",
    "def w_5_prime(eta, w):\n",
    "    w1 = w[0][0]\n",
    "    w5 = w[4][0]\n",
    "    y = -Pr/2 * w1 * w5\n",
    "    return y"
   ]
  },
  {
   "cell_type": "markdown",
   "metadata": {},
   "source": [
    "### Guessing Initial values\n",
    "#### Just $F$"
   ]
  },
  {
   "cell_type": "code",
   "execution_count": 3,
   "metadata": {},
   "outputs": [],
   "source": [
    "def get_w2_init(tol=10e-8, isVerbose=False):\n",
    "    # boundary value for w2\n",
    "    beta = 1\n",
    "\n",
    "    # guesses to straddle the root\n",
    "    a = 0\n",
    "    b = 1\n",
    "\n",
    "    # tolerance in the boundary value\n",
    "    err = tol * 10\n",
    "\n",
    "    # how much do we want to integrate\n",
    "    inf = 15\n",
    "    t0 = 0.0\n",
    "    tf = inf\n",
    "\n",
    "    # system\n",
    "    system = np.array([[w_1_prime], [w_2_prime], [w_3_prime]])\n",
    "\n",
    "    # continue bisecting while err > tolerance\n",
    "    while err > tol:\n",
    "\n",
    "        # boundary value with initial condition as a\n",
    "        w_0 = np.array([[0.0], [0.0], [a]])\n",
    "        h = 0.1\n",
    "        w_a, W, T = runge_kutta_4(system, w_0, h, t0, tf, isVerbose=False, retAll=True)\n",
    "\n",
    "        # boundary valye with initial condition as b\n",
    "        w_0 = np.array([[0.0], [0.0], [b]])\n",
    "        h = 0.1\n",
    "        w_b, W, T = runge_kutta_4(system, w_0, h, t0, tf, isVerbose=False, retAll=True)\n",
    "\n",
    "        # how far are the boundary values with each initial guess\n",
    "        diff_a = np.abs(beta - w_a[1][0])\n",
    "        diff_b = np.abs(beta - w_b[1][0])\n",
    "\n",
    "        # perform bisection\n",
    "        # replace worse guess with the middle point\n",
    "        c = (a+b) / 2\n",
    "        if diff_a > diff_b:\n",
    "            a = c\n",
    "            err = diff_b\n",
    "        else:\n",
    "            b = c\n",
    "            err = diff_a\n",
    "    \n",
    "    if isVerbose:\n",
    "        print(a, b)\n",
    "        print(w_a[1][0], w_b[1][0])\n",
    "\n",
    "    w_2_init = (a + b) / 2\n",
    "    if isVerbose:\n",
    "        print(w_2_init)\n",
    "    \n",
    "    return w_2_init"
   ]
  },
  {
   "cell_type": "markdown",
   "metadata": {
    "collapsed": true
   },
   "source": [
    "#### Both $F$ and $G$"
   ]
  },
  {
   "cell_type": "code",
   "execution_count": 4,
   "metadata": {},
   "outputs": [],
   "source": [
    "def get_w4_init(w2_init, Pr, tol=10e-8, isVerbose=False):\n",
    "    # boundary value for w4'\n",
    "    beta = 0\n",
    "\n",
    "    # guesses to straddle the root\n",
    "    a = -2\n",
    "    b = 4\n",
    "\n",
    "    err = tol * 10\n",
    "\n",
    "    # how much do we want to integrate\n",
    "    inf = 15\n",
    "    t0 = 0.0\n",
    "    tf = inf\n",
    "    h = 0.1\n",
    "\n",
    "    # system\n",
    "    system = np.array([[w_1_prime], [w_2_prime], [w_3_prime], [w_4_prime], [w_5_prime]])\n",
    "\n",
    "\n",
    "    # continue bisecting while err > tolerance\n",
    "    while err > tol:\n",
    "\n",
    "        # boundary value with initial condition as a\n",
    "        w_0 = np.array([[0.0], [0.0], [w2_init], [1.0], [a]])\n",
    "        w_a, W, T = runge_kutta_4(system, w_0, h, t0, tf, isVerbose=False, retAll=True)\n",
    "\n",
    "        # boundary valye with initial condition as b\n",
    "        w_0 = np.array([[0.0], [0.0], [w2_init], [1.0], [b]])\n",
    "        w_b, W, T = runge_kutta_4(system, w_0, h, t0, tf, isVerbose=False, retAll=True)\n",
    "\n",
    "        # how far are the boundary values with each initial guess\n",
    "        diff_a = np.abs(beta - w_a[3][0])\n",
    "        diff_b = np.abs(beta - w_b[3][0])\n",
    "\n",
    "        # perform bisection\n",
    "        # replace worse guess with the middle point\n",
    "        c = (a+b) / 2\n",
    "        if diff_a > diff_b:\n",
    "            a = c\n",
    "            err = diff_b\n",
    "        else:\n",
    "            b = c\n",
    "            err = diff_a\n",
    "\n",
    "    w_4_init = (a+b) / 2\n",
    "    \n",
    "    if isVerbose:\n",
    "        print(a, b)\n",
    "        print(w_a[1][0], w_b[1][0])\n",
    "        print(w_4_init)\n",
    "    \n",
    "    return w_4_init"
   ]
  },
  {
   "cell_type": "markdown",
   "metadata": {},
   "source": [
    "### Solving system for different $Pr$"
   ]
  },
  {
   "cell_type": "code",
   "execution_count": 5,
   "metadata": {},
   "outputs": [],
   "source": [
    "def solve_system(Pr, h=0.1, tol=10e-9, inf=15):\n",
    "    t0 = 0\n",
    "    tf = inf\n",
    "\n",
    "\n",
    "    system = np.array([[w_1_prime], [w_2_prime], [w_3_prime], [w_4_prime], [w_5_prime]])\n",
    "    w_2_init = get_w2_init(tol)\n",
    "    w_4_init = get_w4_init(w_2_init, Pr, tol)\n",
    "    w_0 = np.array([[0.0], [0.0], [w_2_init], [1.0], [w_4_init]])\n",
    "\n",
    "    w_final, W, T = runge_kutta_4(system, w_0, h, t0, tf, isVerbose=False, retAll=True)\n",
    "    \n",
    "    return W, T"
   ]
  },
  {
   "cell_type": "code",
   "execution_count": 7,
   "metadata": {},
   "outputs": [],
   "source": [
    "Pr = 5\n",
    "W, T = solve_system(Pr=5, h=0.1, tol=10e-9, inf=15)\n",
    "\n",
    "v = []\n",
    "u = []\n",
    "G = []\n",
    "eta = []\n",
    "\n",
    "for idx, w in enumerate(W):\n",
    "    F_prime = w[1][0]\n",
    "    F = w[0][0]\n",
    "    t = T[idx]\n",
    "    v_curr = 0.5 * (t * F_prime - F)\n",
    "    \n",
    "    u.append(F_prime)\n",
    "    eta.append(t)\n",
    "    v.append(v_curr)\n",
    "    G.append(w[3][0])"
   ]
  },
  {
   "cell_type": "code",
   "execution_count": 8,
   "metadata": {},
   "outputs": [
    {
     "data": {
      "image/png": "[encoded data removed]",
      "text/plain": [
       "<Figure size 720x360 with 1 Axes>"
      ]
     },
     "metadata": {},
     "output_type": "display_data"
    },
    {
     "data": {
      "image/png": "[encoded data removed]",
      "text/plain": [
       "<Figure size 720x360 with 1 Axes>"
      ]
     },
     "metadata": {},
     "output_type": "display_data"
    }
   ],
   "source": [
    "plt.figure(figsize=(10,5))\n",
    "plt.title(r\"$\\eta$ vs. Dimensionless Velocities\", fontsize=12)\n",
    "plt.xlabel(r\"$\\eta$\", fontsize=12)\n",
    "plt.ylabel(\"Dimensionless Velocity\", fontsize=12)\n",
    "plt.xlim(0, 16)\n",
    "plt.ylim(0, 1.2)\n",
    "plt.plot(eta, u, color='dodgerblue', label=r\"$F^{\\prime}(\\eta)$\")\n",
    "plt.plot(eta, v, color='darkslategrey', label=r\"$\\frac{1}{2}\\ [ \\eta F^{\\prime}(\\eta) - F(\\eta)]$\")\n",
    "plt.legend(loc='lower right')\n",
    "plt.show()\n",
    "\n",
    "plt.figure(figsize=(10,5))\n",
    "plt.title(r\"$\\eta$ vs. Dimensionless Temperature\", fontsize=12)\n",
    "plt.xlabel(r\"$\\eta$\", fontsize=12)\n",
    "plt.ylabel(\"Dimensionless Temperature\", fontsize=12)\n",
    "plt.xlim(0, 16)\n",
    "plt.ylim(0, 1.2)\n",
    "plt.plot(eta, G, color='indianred', label=r'$G(\\eta)$')\n",
    "plt.legend()\n",
    "plt.show()"
   ]
  },
  {
   "cell_type": "markdown",
   "metadata": {},
   "source": [
    "### Estimating $\\eta_{(\\ )}$"
   ]
  },
  {
   "cell_type": "code",
   "execution_count": 12,
   "metadata": {},
   "outputs": [
    {
     "name": "stdout",
     "output_type": "stream",
     "text": [
      "4.514437636263734\n"
     ]
    }
   ],
   "source": [
    "F_prime = []\n",
    "eta = []\n",
    "for idx, w in enumerate(W):\n",
    "    if w[1][0] >= 0.97 and w[1][0] <= 0.99:\n",
    "        eta.append(T[idx])\n",
    "        F_prime.append(w[1][0])\n",
    "    \n",
    "eta_m = lagrange_poly(F_prime, eta, 0.98)\n",
    "print(eta_m)"
   ]
  },
  {
   "cell_type": "code",
   "execution_count": 13,
   "metadata": {},
   "outputs": [
    {
     "name": "stdout",
     "output_type": "stream",
     "text": [
      "2.53969596957158\n"
     ]
    }
   ],
   "source": [
    "G = []\n",
    "eta = []\n",
    "for idx, w in enumerate(W):\n",
    "    if w[3][0] >= 0.01 and w[3][0] <= 0.03:\n",
    "        eta.append(T[idx])\n",
    "        G.append(w[3][0])\n",
    "\n",
    "eta_t = lagrange_poly(G, eta, 0.02)\n",
    "print(eta_t)"
   ]
  },
  {
   "cell_type": "code",
   "execution_count": null,
   "metadata": {
    "collapsed": true
   },
   "outputs": [],
   "source": []
  }
 ],
 "metadata": {
  "kernelspec": {
   "display_name": "Python 3",
   "language": "python",
   "name": "python3"
  },
  "language_info": {
   "codemirror_mode": {
    "name": "ipython",
    "version": 3
   },
   "file_extension": ".py",
   "mimetype": "text/x-python",
   "name": "python",
   "nbconvert_exporter": "python",
   "pygments_lexer": "ipython3",
   "version": "3.6.1"
  }
 },
 "nbformat": 4,
 "nbformat_minor": 2
}
